{
 "cells": [
  {
   "cell_type": "markdown",
   "metadata": {},
   "source": [
    "## Practical 6"
   ]
  },
  {
   "cell_type": "markdown",
   "metadata": {},
   "source": [
    "> Write a program to implement K Nearest Neighbours algorithm , randomly generate a data of 20 points having x and y values. Also assign positive value when x or y component is below 26 and negative value to all other input data , perform classification using value of K = 1,2,3,4,5."
   ]
  },
  {
   "cell_type": "code",
   "execution_count": 51,
   "metadata": {},
   "outputs": [
    {
     "name": "stdout",
     "output_type": "stream",
     "text": [
      "[[48, 87], [17, 52], [5, 89], [56, 35], [21, 97], [11, 26], [52, 75], [81, 25], [40, 31], [50, 9], [74, 1], [29, 52], [55, 96], [99, 65], [93, 0], [60, 16], [23, 81], [26, 70], [38, 94], [53, 50]]\n"
     ]
    }
   ],
   "source": [
    "import random\n",
    "import math\n",
    "\n",
    "randomlist = []\n",
    "\n",
    "for num in range(0,20):\n",
    "    i = random.randint(1,100)\n",
    "    j = random.randint(0,100)\n",
    "    randomlist.append([i,j])\n",
    "    \n",
    "print(randomlist)"
   ]
  },
  {
   "cell_type": "code",
   "execution_count": 52,
   "metadata": {},
   "outputs": [
    {
     "name": "stdout",
     "output_type": "stream",
     "text": [
      "[[48, 87, -1], [17, 52, 1], [5, 89, 1], [56, 35, -1], [21, 97, 1], [11, 26, 1], [52, 75, -1], [81, 25, 1], [40, 31, -1], [50, 9, 1], [74, 1, 1], [29, 52, -1], [55, 96, -1], [99, 65, -1], [93, 0, 1], [60, 16, 1], [23, 81, 1], [26, 70, 1], [38, 94, -1], [53, 50, -1]]\n"
     ]
    }
   ],
   "source": [
    "for ele in randomlist :\n",
    "    if ele[0] <= 26 or ele[1] <= 26 :\n",
    "        ele.append(1)\n",
    "    else : \n",
    "        ele.append(-1)\n",
    "\n",
    "print(randomlist)\n"
   ]
  },
  {
   "cell_type": "code",
   "execution_count": 53,
   "metadata": {},
   "outputs": [
    {
     "name": "stdout",
     "output_type": "stream",
     "text": [
      "[53, 74]\n"
     ]
    }
   ],
   "source": [
    "n = [random.randint(0,100), random.randint(0,100)]\n",
    "print(n)"
   ]
  },
  {
   "cell_type": "code",
   "execution_count": 54,
   "metadata": {},
   "outputs": [
    {
     "name": "stdout",
     "output_type": "stream",
     "text": [
      "[[48, 87, -1], [17, 52, 1], [5, 89, 1], [56, 35, -1], [21, 97, 1], [11, 26, 1], [52, 75, -1], [81, 25, 1], [40, 31, -1], [50, 9, 1], [74, 1, 1], [29, 52, -1], [55, 96, -1], [99, 65, -1], [93, 0, 1], [60, 16, 1], [23, 81, 1], [26, 70, 1], [38, 94, -1], [53, 50, -1]]\n",
      "{13.92838827718412: -1, 42.190046219457976: 1, 50.28916384272063: 1, 39.11521443121589: -1, 39.408120990476064: 1, 63.7808748764079: 1, 1.4142135623730951: -1, 56.43580423808985: 1, 44.9221548904324: -1, 65.06919393998976: 1, 75.96051605933177: 1, 32.55764119219941: -1, 22.090722034374522: -1, 46.87216658103186: -1, 84.11896337925236: 1, 58.42088667591412: 1, 30.805843601498726: 1, 27.294688127912362: 1, 25.0: -1, 24.0: -1}\n"
     ]
    }
   ],
   "source": [
    "x1,y1 = n[0],n[1]\n",
    "dist = {}\n",
    "for ele in randomlist :\n",
    "    x2,y2 = ele[0],ele[1]\n",
    "    d = ((x1 - x2)**2 + (y1-y2)**2)**(1/2)\n",
    "    dist[d] = ele[2]\n",
    "    \n",
    "print(randomlist)\n",
    "print(dist)"
   ]
  },
  {
   "cell_type": "code",
   "execution_count": 55,
   "metadata": {},
   "outputs": [
    {
     "name": "stdout",
     "output_type": "stream",
     "text": [
      "{1.4142135623730951: -1, 13.92838827718412: -1, 22.090722034374522: -1, 24.0: -1, 25.0: -1, 27.294688127912362: 1, 30.805843601498726: 1, 32.55764119219941: -1, 39.11521443121589: -1, 39.408120990476064: 1, 42.190046219457976: 1, 44.9221548904324: -1, 46.87216658103186: -1, 50.28916384272063: 1, 56.43580423808985: 1, 58.42088667591412: 1, 63.7808748764079: 1, 65.06919393998976: 1, 75.96051605933177: 1, 84.11896337925236: 1}\n"
     ]
    }
   ],
   "source": [
    "sortDist = list(dist.keys())\n",
    "sortDist.sort()\n",
    "KNNset = {i: dist[i] for i in sortDist}\n",
    " \n",
    "print(KNNset)"
   ]
  },
  {
   "cell_type": "code",
   "execution_count": 63,
   "metadata": {},
   "outputs": [
    {
     "name": "stdout",
     "output_type": "stream",
     "text": [
      "For K = 1 :\n",
      "Negative\n"
     ]
    }
   ],
   "source": [
    "print(\"For K = 1 :\")\n",
    "k = 2\n",
    "sum = 0\n",
    "\n",
    "\n",
    "for val in KNNset.values() :\n",
    "    while(k != 0):\n",
    "        #print(val)\n",
    "        sum = sum + val\n",
    "        k= k-1\n",
    "\n",
    "if sum > 0 : \n",
    "    print(\"Positive\") \n",
    "else :\n",
    "    print(\"Negative\")\n",
    "    \n",
    "# print(\"For K = 2 :\")\n",
    "# k = 2\n",
    "# sum = 0\n",
    "\n",
    "\n",
    "# for val in KNNset.values() :\n",
    "#     while(k != 0):\n",
    "#         #print(val)\n",
    "#         sum = sum + val\n",
    "#         k= k-1\n",
    "\n",
    "# if sum > 0 : \n",
    "#     print(\"Positive\") \n",
    "# else :\n",
    "#     print(\"Negative\")"
   ]
  },
  {
   "cell_type": "code",
   "execution_count": null,
   "metadata": {},
   "outputs": [],
   "source": []
  }
 ],
 "metadata": {
  "kernelspec": {
   "display_name": "Python 3",
   "language": "python",
   "name": "python3"
  },
  "language_info": {
   "codemirror_mode": {
    "name": "ipython",
    "version": 3
   },
   "file_extension": ".py",
   "mimetype": "text/x-python",
   "name": "python",
   "nbconvert_exporter": "python",
   "pygments_lexer": "ipython3",
   "version": "3.6.5"
  }
 },
 "nbformat": 4,
 "nbformat_minor": 2
}
