{
 "cells": [
  {
   "cell_type": "code",
   "execution_count": 1,
   "id": "1ea4d37b",
   "metadata": {},
   "outputs": [],
   "source": [
    "# EXPERIMENT 03 \n",
    "#Write a program to implement Breadth First Search. Take a graph and start/goal node an input. Your job is to find goal node. Print the total cost and path\n"
   ]
  },
  {
   "cell_type": "markdown",
   "id": "93fb2e0c",
   "metadata": {},
   "source": [
    "Name : Sejal Randive  \n",
    "sem/Sec : 6th ,B  \n",
    "Roll no : 07  \n",
    "Date    : 16/03/23  \n",
    "Subject : AI lab  "
   ]
  },
  {
   "cell_type": "code",
   "execution_count": 6,
   "id": "4e5ae8d7",
   "metadata": {},
   "outputs": [
    {
     "name": "stdout",
     "output_type": "stream",
     "text": [
      "Path found: ['New Delhi', 'Mumbai', 'Bengaluru']\n",
      "Total cost: 8\n"
     ]
    }
   ],
   "source": [
    "from collections import deque\n",
    "\n",
    "def bfs(graph, start, goal):\n",
    "    queue = deque([(start, [], 0)])\n",
    "    visited = set()\n",
    "    \n",
    "    while queue:\n",
    "        # get the next node from the queue\n",
    "        node, path, cost = queue.popleft()\n",
    "        if node in visited:\n",
    "            continue\n",
    "        visited.add(node)\n",
    "        if node == goal:\n",
    "            return path + [node], cost\n",
    "        for neighbor, weight in graph[node].items():\n",
    "            if neighbor not in visited:\n",
    "                queue.append((neighbor, path + [node], cost + weight))\n",
    "    \n",
    "    return None, None\n",
    "\n",
    "\n",
    "# example usage\n",
    "graph = {\n",
    "    'New Delhi': {'Lucknow': 2, 'Mumbai': 5},\n",
    "    'Lucknow': {'New Delhi': 2, 'Hyderabad': 4, 'Kolkata': 3},\n",
    "    'Mumbai': {'New Delhi': 5, 'Hyderabad': 2, 'Bengaluru': 3},\n",
    "    'Hyderabad': {'Lucknow': 4, 'Bengaluru': 1, 'Kolkata': 3,'Mumbai': 2},\n",
    "    'Kolkata': {'Lucknow': 3,'Hyderabad': 3, 'Bengaluru': 6},\n",
    "    'Bengaluru': {'Mumbai': 3, 'Hyderabad': 1, 'Kolkata': 6}\n",
    "}\n",
    "\n",
    "start = 'New Delhi'\n",
    "goal = 'Bengaluru'\n",
    "\n",
    "path, cost = bfs(graph, start, goal)\n",
    "if path is None:\n",
    "    print(\"No path found.\")\n",
    "else:\n",
    "    print(\"Path found:\", path)\n",
    "    print(\"Total cost:\", cost)\n"
   ]
  },
  {
   "cell_type": "code",
   "execution_count": null,
   "id": "92b28bac",
   "metadata": {},
   "outputs": [],
   "source": []
  }
 ],
 "metadata": {
  "kernelspec": {
   "display_name": "Python 3",
   "language": "python",
   "name": "python3"
  },
  "language_info": {
   "codemirror_mode": {
    "name": "ipython",
    "version": 3
   },
   "file_extension": ".py",
   "mimetype": "text/x-python",
   "name": "python",
   "nbconvert_exporter": "python",
   "pygments_lexer": "ipython3",
   "version": "3.8.8"
  }
 },
 "nbformat": 4,
 "nbformat_minor": 5
}
