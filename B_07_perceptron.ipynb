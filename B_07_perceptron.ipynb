{
  "cells": [
    {
      "cell_type": "markdown",
      "id": "bb1d1ffa",
      "metadata": {
        "id": "bb1d1ffa"
      },
      "source": [
        "# AI LAB\n",
        "\n",
        "**Pratical - 08**\n",
        "\n",
        "-----------------------------------------------\n",
        "Name       :   Sejal Randive  \n",
        "Roll No    :   07  \n",
        "Sem/Sec    :   6[B]  \n",
        "\n",
        "------------------------------------------------\n",
        "#### **AIM** : Write a program to implement perceptron learning algorithm for two input AND, OR, NAND and NOR gate classification. Initialize weights randomly in 1 to 10. Use similar initial weights for learning all the GATE classifications. Display number of iterations required in each case.\n"
      ]
    },
    {
      "cell_type": "code",
      "execution_count": null,
      "id": "d53e9086",
      "metadata": {
        "id": "d53e9086"
      },
      "outputs": [],
      "source": [
        "import random"
      ]
    },
    {
      "cell_type": "code",
      "execution_count": null,
      "id": "a5e04618",
      "metadata": {
        "id": "a5e04618"
      },
      "outputs": [],
      "source": [
        "class Perceptron:\n",
        "    \n",
        "    def __init__(self):\n",
        "        self.weights = [random.randint(1, 10) for _ in range(3)]\n",
        "        \n",
        "    def classify(self, x):\n",
        "        dot_product = sum([x[i]*self.weights[i] for i in range(len(x))])\n",
        "        return 1 if dot_product >= 0 else 0\n",
        "    \n",
        "    def train(self, training_data, max_iterations):\n",
        "        for iteration in range(max_iterations):\n",
        "            misclassified = False\n",
        "            for x, y in training_data:\n",
        "                y_predicted = self.classify(x)\n",
        "                if y_predicted != y:\n",
        "                    misclassified = True\n",
        "                    error = y - y_predicted\n",
        "                    for i in range(len(x)):\n",
        "                        self.weights[i] += error * x[i]\n",
        "            if not misclassified:\n",
        "                return iteration+1\n",
        "        return max_iterations\n"
      ]
    },
    {
      "cell_type": "code",
      "execution_count": null,
      "id": "7db2d266",
      "metadata": {
        "id": "7db2d266"
      },
      "outputs": [],
      "source": [
        "def test_perceptron(perceptron, test_data):\n",
        "    for x, y in test_data:\n",
        "        y_predicted = perceptron.classify(x)\n",
        "        print(\"Input: {}, Output: {}, Expected Output: {}\".format(x, y_predicted, y))\n"
      ]
    },
    {
      "cell_type": "code",
      "execution_count": null,
      "id": "f7c51dc4",
      "metadata": {
        "id": "f7c51dc4"
      },
      "outputs": [],
      "source": [
        "def main():\n",
        "    and_gate_training_data = [([0, 0, 1], 0), ([0, 1, 1], 0), ([1, 0, 1], 0), ([1, 1, 1], 1)]\n",
        "    or_gate_training_data = [([0, 0, 1], 0), ([0, 1, 1], 1), ([1, 0, 1], 1), ([1, 1, 1], 1)]\n",
        "    nand_gate_training_data = [([0, 0, 1], 1), ([0, 1, 1], 1), ([1, 0, 1], 1), ([1, 1, 1], 0)]\n",
        "    nor_gate_training_data = [([0, 0, 1], 1), ([0, 1, 1], 0), ([1, 0, 1], 0), ([1, 1, 1], 0)]\n",
        "    max_iterations = 10\n",
        "    print()\n",
        "    and_perceptron = Perceptron()\n",
        "    and_iterations = and_perceptron.train(and_gate_training_data, max_iterations)\n",
        "    print(\"AND Gate: {} iterations\".format(and_iterations))\n",
        "    test_perceptron(and_perceptron, and_gate_training_data)\n",
        "    print()\n",
        "    or_perceptron = Perceptron()\n",
        "    or_iterations = or_perceptron.train(or_gate_training_data, max_iterations)\n",
        "    print(\"OR Gate: {} iterations\".format(or_iterations))\n",
        "    test_perceptron(or_perceptron, or_gate_training_data)\n",
        "    print()\n",
        "    nand_perceptron = Perceptron()\n",
        "    nand_iterations = nand_perceptron.train(nand_gate_training_data, max_iterations)\n",
        "    print(\"NAND Gate: {} iterations\".format(nand_iterations))\n",
        "    test_perceptron(nand_perceptron, nand_gate_training_data)\n",
        "    print()\n",
        "    nor_perceptron = Perceptron()\n",
        "    nor_iterations = nor_perceptron.train(nor_gate_training_data, max_iterations)\n",
        "    print(\"NOR Gate: {} iterations\".format(nor_iterations))\n",
        "    test_perceptron(nor_perceptron, nor_gate_training_data)\n"
      ]
    },
    {
      "cell_type": "code",
      "execution_count": null,
      "id": "dba817cb",
      "metadata": {
        "id": "dba817cb",
        "outputId": "2248e625-9707-4226-8b4b-77a267a437f6"
      },
      "outputs": [
        {
          "name": "stdout",
          "output_type": "stream",
          "text": [
            "\n",
            "AND Gate: 5 iterations\n",
            "Input: [0, 0, 1], Output: 0, Expected Output: 0\n",
            "Input: [0, 1, 1], Output: 0, Expected Output: 0\n",
            "Input: [1, 0, 1], Output: 0, Expected Output: 0\n",
            "Input: [1, 1, 1], Output: 1, Expected Output: 1\n",
            "\n",
            "OR Gate: 3 iterations\n",
            "Input: [0, 0, 1], Output: 0, Expected Output: 0\n",
            "Input: [0, 1, 1], Output: 1, Expected Output: 1\n",
            "Input: [1, 0, 1], Output: 1, Expected Output: 1\n",
            "Input: [1, 1, 1], Output: 1, Expected Output: 1\n",
            "\n",
            "NAND Gate: 10 iterations\n",
            "Input: [0, 0, 1], Output: 1, Expected Output: 1\n",
            "Input: [0, 1, 1], Output: 0, Expected Output: 1\n",
            "Input: [1, 0, 1], Output: 0, Expected Output: 1\n",
            "Input: [1, 1, 1], Output: 0, Expected Output: 0\n",
            "\n",
            "NOR Gate: 10 iterations\n",
            "Input: [0, 0, 1], Output: 0, Expected Output: 1\n",
            "Input: [0, 1, 1], Output: 0, Expected Output: 0\n",
            "Input: [1, 0, 1], Output: 0, Expected Output: 0\n",
            "Input: [1, 1, 1], Output: 0, Expected Output: 0\n"
          ]
        }
      ],
      "source": [
        "if __name__ == '__main__':\n",
        "    main()"
      ]
    }
  ],
  "metadata": {
    "kernelspec": {
      "display_name": "Python 3 (ipykernel)",
      "language": "python",
      "name": "python3"
    },
    "language_info": {
      "codemirror_mode": {
        "name": "ipython",
        "version": 3
      },
      "file_extension": ".py",
      "mimetype": "text/x-python",
      "name": "python",
      "nbconvert_exporter": "python",
      "pygments_lexer": "ipython3",
      "version": "3.10.0"
    },
    "colab": {
      "provenance": []
    }
  },
  "nbformat": 4,
  "nbformat_minor": 5
}