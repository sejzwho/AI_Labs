{
 "cells": [
  {
   "cell_type": "markdown",
   "id": "162e9980",
   "metadata": {},
   "source": [
    "          EXPERIMENT 04\n",
    "     =======================\n",
    "Name    : Sejal Randive    \n",
    "sem/sec : 6th B   \n",
    "Roll no : 07   \n",
    "subject : AI Labs   "
   ]
  },
  {
   "cell_type": "markdown",
   "id": "005bf674",
   "metadata": {},
   "source": [
    "Aim: Write a program to implement A* to solve 8-Puzzle problem"
   ]
  },
  {
   "cell_type": "code",
   "execution_count": 7,
   "id": "ac528780",
   "metadata": {},
   "outputs": [
    {
     "name": "stdout",
     "output_type": "stream",
     "text": [
      "Found solution in 9 moves!\n",
      "-------------------------------\n",
      "initial_state = [7, 2, 6, 4, 0, 5, 3, 1, 8]\n",
      "Solution= [0, 1, 2, 3, 4, 5, 6, 7, 8]\n",
      "-------------------------------\n",
      "Number of boards explored: 40090\n"
     ]
    }
   ],
   "source": [
    "import heapq\n",
    "from typing import List, Tuple\n",
    "\n",
    "class Board:\n",
    "    def __init__(self, state: List[int], n: int = 3):\n",
    "        self.state = state\n",
    "        self.n = n\n",
    "        self.h = self.heuristic()\n",
    "        self.blank_index = state.index(0)\n",
    "\n",
    "    def heuristic(self) -> int:\n",
    "        # Manhattan distance heuristic\n",
    "        h = 0\n",
    "        for i, num in enumerate(self.state):\n",
    "            if num == 0:\n",
    "                continue\n",
    "            x, y = i % self.n, i // self.n\n",
    "            goal_x, goal_y = (num - 1) % self.n, (num - 1) // self.n\n",
    "            h += abs(x - goal_x) + abs(y - goal_y)\n",
    "        return h\n",
    "\n",
    "    def is_goal(self) -> bool:\n",
    "        return self.state == list(range(len(self.state)))\n",
    "\n",
    "    def neighbors(self) -> List['Board']:\n",
    "        neighbors = []\n",
    "        if self.blank_index >= self.n:\n",
    "            new_state = self.state[:]\n",
    "            new_state[self.blank_index], new_state[self.blank_index-self.n] = new_state[self.blank_index-self.n], new_state[self.blank_index]\n",
    "            neighbors.append(Board(new_state, self.n))\n",
    "        if self.blank_index % self.n != 0:\n",
    "            new_state = self.state[:]\n",
    "            new_state[self.blank_index], new_state[self.blank_index-1] = new_state[self.blank_index-1], new_state[self.blank_index]\n",
    "            neighbors.append(Board(new_state, self.n))\n",
    "        if self.blank_index % self.n != self.n - 1:\n",
    "            new_state = self.state[:]\n",
    "            new_state[self.blank_index], new_state[self.blank_index+1] = new_state[self.blank_index+1], new_state[self.blank_index]\n",
    "            neighbors.append(Board(new_state, self.n))\n",
    "        if self.blank_index < len(self.state) - self.n:\n",
    "            new_state = self.state[:]\n",
    "            new_state[self.blank_index], new_state[self.blank_index+self.n] = new_state[self.blank_index+self.n], new_state[self.blank_index]\n",
    "            neighbors.append(Board(new_state, self.n))\n",
    "        return neighbors\n",
    "\n",
    "    def __eq__(self, other: 'Board') -> bool:\n",
    "        return self.state == other.state\n",
    "\n",
    "    def __lt__(self, other: 'Board') -> bool:\n",
    "        return self.h < other.h\n",
    "\n",
    "    def __hash__(self) -> int:\n",
    "        return hash(str(self.state))\n",
    "\n",
    "def solve(initial_state: List[int]) -> Tuple[List[int], int]:\n",
    "    start_board = Board(initial_state)\n",
    "    heap = [(start_board.h, start_board)]\n",
    "    explored = set()\n",
    "    while heap:\n",
    "        _, board = heapq.heappop(heap)\n",
    "        if board.is_goal():\n",
    "            return board.state, len(explored)\n",
    "        explored.add(board)\n",
    "        for neighbor in board.neighbors():\n",
    "            if neighbor not in explored:\n",
    "                heapq.heappush(heap, (neighbor.h, neighbor))\n",
    "    return None, len(explored)\n",
    "\n",
    "# Example usage\n",
    "initial_state = [7, 2, 6, 4, 0, 5, 3, 1, 8]\n",
    "solution, num_explored = solve(initial_state)\n",
    "\n",
    "if solution is not None:\n",
    "    print(\"Found solution in\", len(solution), \"moves!\")\n",
    "    print(\"-------------------------------\")\n",
    "    print(\"initial_state = [7, 2, 6, 4, 0, 5, 3, 1, 8]\")\n",
    "    print(\"Solution=\", solution)\n",
    "else:\n",
    "    print(\"Could not find solution.\")\n",
    "print(\"-------------------------------\")    \n",
    "print(\"Number of boards explored:\", num_explored)\n"
   ]
  },
  {
   "cell_type": "code",
   "execution_count": null,
   "id": "4dab49fb",
   "metadata": {},
   "outputs": [],
   "source": []
  }
 ],
 "metadata": {
  "kernelspec": {
   "display_name": "Python 3",
   "language": "python",
   "name": "python3"
  },
  "language_info": {
   "codemirror_mode": {
    "name": "ipython",
    "version": 3
   },
   "file_extension": ".py",
   "mimetype": "text/x-python",
   "name": "python",
   "nbconvert_exporter": "python",
   "pygments_lexer": "ipython3",
   "version": "3.8.8"
  }
 },
 "nbformat": 4,
 "nbformat_minor": 5
}
